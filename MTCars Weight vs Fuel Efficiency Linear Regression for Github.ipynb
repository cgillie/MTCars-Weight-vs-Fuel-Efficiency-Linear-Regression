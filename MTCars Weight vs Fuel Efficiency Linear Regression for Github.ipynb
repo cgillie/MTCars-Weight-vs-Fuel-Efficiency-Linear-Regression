{
 "cells": [
  {
   "cell_type": "markdown",
   "metadata": {},
   "source": [
    "# <center> MTCars Weight vs Fuel Efficiency Linear Regression</center># \n",
    "\n",
    "### <p style='text-align: left;'> Author: Christopher Gillie </p> <p style='text-align: right;'> 19-Oct-2020 </p> ###"
   ]
  },
  {
   "cell_type": "markdown",
   "metadata": {},
   "source": [
    "## Introduction: ##\n",
    "\n",
    "The purpose of this exercise is to implement a simple linear regression on a small dataset. The author chose to implement a linear regression utilizing gradient descent to minimize the mean squared error cost function. The dataset used is the \"Motor Trend Car Road Tests\" dataset available from R at https://www.rdocumentation.org/packages/datasets/versions/3.6.2/topics/mtcars\n",
    "\n",
    "The implementation is coded in Python 3."
   ]
  },
  {
   "cell_type": "markdown",
   "metadata": {},
   "source": [
    "## Findings: ##\n",
    "The relationship between the weight of a vehicle and its fuel efficiency can be modeled on the line,\n",
    "<p style='text-align: center;'> $y=-5.29*x + 37.11$ </p> \n",
    "\n",
    "Where $\\hspace{.25cm}$\n",
    "$\\begin{cases}\n",
    "    \\text{y = the predicted fuel efficiency of the vehicle in miles per gallon}\\\\\n",
    "    \\text{x = weight of the vehicle in 1000's of pounds}\n",
    "\\end{cases}$"
   ]
  },
  {
   "cell_type": "markdown",
   "metadata": {},
   "source": [
    "## Code: ##\n",
    "### Weight vs MPG of Entire Dataset: ###"
   ]
  },
  {
   "cell_type": "code",
   "execution_count": 1,
   "metadata": {},
   "outputs": [
    {
     "name": "stdout",
     "output_type": "stream",
     "text": [
      "This code implements a simple linear regression on the wieght vs the fuel efficiency of the MTCars dataset.The program uses gradient descent as the optimization algorithm to minimize the mean squared error cost function.\n",
      "\n",
      "\n",
      "Initial dataframe:\n",
      "                      mpg  cyl   disp   hp  drat     wt   qsec  vs  am  gear  \\\n",
      "Mazda RX4            21.0    6  160.0  110  3.90  2.620  16.46   0   1     4   \n",
      "Mazda RX4 Wag        21.0    6  160.0  110  3.90  2.875  17.02   0   1     4   \n",
      "Datsun 710           22.8    4  108.0   93  3.85  2.320  18.61   1   1     4   \n",
      "Hornet 4 Drive       21.4    6  258.0  110  3.08  3.215  19.44   1   0     3   \n",
      "Hornet Sportabout    18.7    8  360.0  175  3.15  3.440  17.02   0   0     3   \n",
      "Valiant              18.1    6  225.0  105  2.76  3.460  20.22   1   0     3   \n",
      "Duster 360           14.3    8  360.0  245  3.21  3.570  15.84   0   0     3   \n",
      "Merc 240D            24.4    4  146.7   62  3.69  3.190  20.00   1   0     4   \n",
      "Merc 230             22.8    4  140.8   95  3.92  3.150  22.90   1   0     4   \n",
      "Merc 280             19.2    6  167.6  123  3.92  3.440  18.30   1   0     4   \n",
      "Merc 280C            17.8    6  167.6  123  3.92  3.440  18.90   1   0     4   \n",
      "Merc 450SE           16.4    8  275.8  180  3.07  4.070  17.40   0   0     3   \n",
      "Merc 450SL           17.3    8  275.8  180  3.07  3.730  17.60   0   0     3   \n",
      "Merc 450SLC          15.2    8  275.8  180  3.07  3.780  18.00   0   0     3   \n",
      "Cadillac Fleetwood   10.4    8  472.0  205  2.93  5.250  17.98   0   0     3   \n",
      "Lincoln Continental  10.4    8  460.0  215  3.00  5.424  17.82   0   0     3   \n",
      "Chrysler Imperial    14.7    8  440.0  230  3.23  5.345  17.42   0   0     3   \n",
      "Fiat 128             32.4    4   78.7   66  4.08  2.200  19.47   1   1     4   \n",
      "Honda Civic          30.4    4   75.7   52  4.93  1.615  18.52   1   1     4   \n",
      "Toyota Corolla       33.9    4   71.1   65  4.22  1.835  19.90   1   1     4   \n",
      "Toyota Corona        21.5    4  120.1   97  3.70  2.465  20.01   1   0     3   \n",
      "Dodge Challenger     15.5    8  318.0  150  2.76  3.520  16.87   0   0     3   \n",
      "AMC Javelin          15.2    8  304.0  150  3.15  3.435  17.30   0   0     3   \n",
      "Camaro Z28           13.3    8  350.0  245  3.73  3.840  15.41   0   0     3   \n",
      "Pontiac Firebird     19.2    8  400.0  175  3.08  3.845  17.05   0   0     3   \n",
      "Fiat X1-9            27.3    4   79.0   66  4.08  1.935  18.90   1   1     4   \n",
      "Porsche 914-2        26.0    4  120.3   91  4.43  2.140  16.70   0   1     5   \n",
      "Lotus Europa         30.4    4   95.1  113  3.77  1.513  16.90   1   1     5   \n",
      "Ford Pantera L       15.8    8  351.0  264  4.22  3.170  14.50   0   1     5   \n",
      "Ferrari Dino         19.7    6  145.0  175  3.62  2.770  15.50   0   1     5   \n",
      "Maserati Bora        15.0    8  301.0  335  3.54  3.570  14.60   0   1     5   \n",
      "Volvo 142E           21.4    4  121.0  109  4.11  2.780  18.60   1   1     4   \n",
      "\n",
      "                     carb  \n",
      "Mazda RX4               4  \n",
      "Mazda RX4 Wag           4  \n",
      "Datsun 710              1  \n",
      "Hornet 4 Drive          1  \n",
      "Hornet Sportabout       2  \n",
      "Valiant                 1  \n",
      "Duster 360              4  \n",
      "Merc 240D               2  \n",
      "Merc 230                2  \n",
      "Merc 280                4  \n",
      "Merc 280C               4  \n",
      "Merc 450SE              3  \n",
      "Merc 450SL              3  \n",
      "Merc 450SLC             3  \n",
      "Cadillac Fleetwood      4  \n",
      "Lincoln Continental     4  \n",
      "Chrysler Imperial       4  \n",
      "Fiat 128                1  \n",
      "Honda Civic             2  \n",
      "Toyota Corolla          1  \n",
      "Toyota Corona           1  \n",
      "Dodge Challenger        2  \n",
      "AMC Javelin             2  \n",
      "Camaro Z28              4  \n",
      "Pontiac Firebird        2  \n",
      "Fiat X1-9               1  \n",
      "Porsche 914-2           2  \n",
      "Lotus Europa            2  \n",
      "Ford Pantera L          4  \n",
      "Ferrari Dino            6  \n",
      "Maserati Bora           8  \n",
      "Volvo 142E              2  \n",
      "\n",
      "\n"
     ]
    }
   ],
   "source": [
    "#Initialize and Import\n",
    "\"\"\"\n",
    "Created on Mon Oct 19 8:11:50 EDT 2020\n",
    "\n",
    "Author: Christopher Gillie\n",
    "File: MTCars_Linear_Regression.pynb\n",
    "Description: This code implements a simple linear regression model on the MTCars dataset using\n",
    "gradient descent as the optimization algorithm minimizing the mean squared error cost function.\n",
    "\n",
    "\"\"\"\n",
    "#Import libraries\n",
    "import statsmodels.api as sm\n",
    "import pandas as pd\n",
    "import time\n",
    "import matplotlib.pyplot as plt\n",
    "from plotnine import *\n",
    "from plotnine.data import *\n",
    "import numpy as np\n",
    "\n",
    "# Import MTCars from R and make a copy into a Pandas Dataframe\n",
    "mtcars = sm.datasets.get_rdataset(\"mtcars\", \"datasets\", cache=True).data\n",
    "df = pd.DataFrame(mtcars)\n",
    "\n",
    "print(\"This code implements a simple linear regression on the wieght vs the fuel efficiency of the MTCars dataset.\\\n",
    "The program uses gradient descent as the optimization algorithm to minimize the mean squared error cost function.\")\n",
    "print('\\n')\n",
    "\n",
    "#Show initial dataframe\n",
    "print (\"Initial dataframe:\")\n",
    "print(df)\n",
    "print('\\n')"
   ]
  },
  {
   "cell_type": "code",
   "execution_count": 2,
   "metadata": {},
   "outputs": [
    {
     "name": "stdout",
     "output_type": "stream",
     "text": [
      "Number of Vehicles =  32.0\n",
      "\n",
      "\n",
      "We are concerned with the following columns: \n",
      "                         wt   mpg\n",
      "Mazda RX4            2.620  21.0\n",
      "Mazda RX4 Wag        2.875  21.0\n",
      "Datsun 710           2.320  22.8\n",
      "Hornet 4 Drive       3.215  21.4\n",
      "Hornet Sportabout    3.440  18.7\n",
      "Valiant              3.460  18.1\n",
      "Duster 360           3.570  14.3\n",
      "Merc 240D            3.190  24.4\n",
      "Merc 230             3.150  22.8\n",
      "Merc 280             3.440  19.2\n",
      "Merc 280C            3.440  17.8\n",
      "Merc 450SE           4.070  16.4\n",
      "Merc 450SL           3.730  17.3\n",
      "Merc 450SLC          3.780  15.2\n",
      "Cadillac Fleetwood   5.250  10.4\n",
      "Lincoln Continental  5.424  10.4\n",
      "Chrysler Imperial    5.345  14.7\n",
      "Fiat 128             2.200  32.4\n",
      "Honda Civic          1.615  30.4\n",
      "Toyota Corolla       1.835  33.9\n",
      "Toyota Corona        2.465  21.5\n",
      "Dodge Challenger     3.520  15.5\n",
      "AMC Javelin          3.435  15.2\n",
      "Camaro Z28           3.840  13.3\n",
      "Pontiac Firebird     3.845  19.2\n",
      "Fiat X1-9            1.935  27.3\n",
      "Porsche 914-2        2.140  26.0\n",
      "Lotus Europa         1.513  30.4\n",
      "Ford Pantera L       3.170  15.8\n",
      "Ferrari Dino         2.770  19.7\n",
      "Maserati Bora        3.570  15.0\n",
      "Volvo 142E           2.780  21.4\n"
     ]
    }
   ],
   "source": [
    "#Number of vehicles\n",
    "no_of_cars = float(len(df.index))\n",
    "print(\"Number of Vehicles = \",no_of_cars)\n",
    "print('\\n')\n",
    "\n",
    "#Define the x and y variables\n",
    "X = df['wt']      #Choose from the following: mpg, cyl, hp, drat, wt, qsec, vs, am, gear, carb\n",
    "Y = df['mpg']    #Choose from the following: mpg, cyl, hp, drat, wt, qsec, vs, am, gear, carb\n",
    "\n",
    "print(\"We are concerned with the following columns:\",\"\\n\",df[['wt','mpg']])"
   ]
  },
  {
   "cell_type": "code",
   "execution_count": 3,
   "metadata": {},
   "outputs": [
    {
     "name": "stdout",
     "output_type": "stream",
     "text": [
      "Computing m and c using gradient descent...\n",
      "Computed values of m and c:  -5.2939 37.1089\n",
      "Compute Time: 18.0019\n",
      "\n",
      "\n"
     ]
    }
   ],
   "source": [
    "print (\"Computing m and c using gradient descent...\")\n",
    "#Time gradient descent\n",
    "start_time = time.time()\n",
    "\n",
    "#Use gradient descent to minimize the mean squared error\n",
    "#Initialize m, c, r (learning rate), and iterations (number of iterations)\n",
    "#For wt v mpg initialize with m = -5.340 and c = 37.270\n",
    "m = -1\n",
    "c = 30\n",
    "r = .001\n",
    "iterations = 25000\n",
    "n = no_of_cars\n",
    "\n",
    "# Perform Gradient Descent \n",
    "for i in range(iterations): \n",
    "    Y_pred = (m*X) + c                     # The current predicted value of Y\n",
    "    Dm = (-2/n) * sum(X * (Y - Y_pred))    # Derivative wrt m\n",
    "    Dc = (-2/n) * sum(Y - Y_pred)          # Derivative wrt c\n",
    "    m = m - (r * Dm)                       # Update m\n",
    "    c = c - (r * Dc)                       # Update c\n",
    "\n",
    "comp_time = time.time() - start_time\n",
    "\n",
    "#Print computed m and c\n",
    "print ('Computed values of m and c: ',round(m,4),round(c,4))\n",
    "print(\"Compute Time:\", round(comp_time,4))\n",
    "print('\\n')"
   ]
  },
  {
   "cell_type": "code",
   "execution_count": 4,
   "metadata": {},
   "outputs": [
    {
     "name": "stdout",
     "output_type": "stream",
     "text": [
      "R-Squared =  0.75276\n",
      "\n",
      "\n"
     ]
    }
   ],
   "source": [
    "#Compute R^2\n",
    "#An excellent R^2 for wt v mpg is 0.75283\n",
    "top = np.sum((Y-Y_pred)**2)\n",
    "bottom = np.sum((Y-np.mean(Y))**2)\n",
    "\n",
    "r_squared_1 = 1-(top/bottom)\n",
    "print (\"R-Squared = \",round(r_squared_1,6))\n",
    "print('\\n')"
   ]
  },
  {
   "cell_type": "code",
   "execution_count": 5,
   "metadata": {},
   "outputs": [
    {
     "data": {
      "text/plain": [
       "Text(0.5, 1.0, 'WT v MPG')"
      ]
     },
     "execution_count": 5,
     "metadata": {},
     "output_type": "execute_result"
    },
    {
     "data": {
      "image/png": "[encoded data removed]",
      "text/plain": [
       "<Figure size 432x288 with 1 Axes>"
      ]
     },
     "metadata": {
      "needs_background": "light"
     },
     "output_type": "display_data"
    }
   ],
   "source": [
    "#Write function for line of best fit, plot points and line\n",
    "\n",
    "#Line of best fit\n",
    "Y_pred = (m*X)+c\n",
    "\n",
    "#Plot the best fit line using the endpoints of Y_pred\n",
    "#The if/else statement ensures that the plotted line \\\n",
    "#matches the behavior of the slope indicated by m\n",
    "if m<=0:\n",
    "    point1 = [min(X), max(Y_pred)]\n",
    "    point2 = [max(X), min(Y_pred)]\n",
    "    x_values = [point1[0], point2[0]] \n",
    "    y_values = [point1[1], point2[1]]\n",
    "\n",
    "else:\n",
    "    point1 = [min(X), min(Y_pred)]\n",
    "    point2 = [max(X), max(Y_pred)]\n",
    "    x_values = [point1[0], point2[0]] \n",
    "    y_values = [point1[1], point2[1]]\n",
    "    \n",
    "\n",
    "plot1=plt.figure(1)    \n",
    "#plot the best fit line\n",
    "plt.plot(x_values, y_values)\n",
    "\n",
    "#add the scatter plot of the two variables\n",
    "plt.scatter(X, Y)\n",
    "\n",
    "#label plot1\n",
    "plt.xlabel('WT')\n",
    "plt.ylabel('MPG')\n",
    "plt.title('WT v MPG')"
   ]
  },
  {
   "cell_type": "code",
   "execution_count": 6,
   "metadata": {},
   "outputs": [
    {
     "data": {
      "text/plain": [
       "Text(0.5, 1.0, 'WT Histogram')"
      ]
     },
     "execution_count": 6,
     "metadata": {},
     "output_type": "execute_result"
    },
    {
     "data": {
      "image/png": "[encoded data removed]",
      "text/plain": [
       "<Figure size 432x288 with 1 Axes>"
      ]
     },
     "metadata": {
      "needs_background": "light"
     },
     "output_type": "display_data"
    }
   ],
   "source": [
    "plot2=plt.figure(2)\n",
    "#Histogram of the X variable\n",
    "plt.hist(X)\n",
    "\n",
    "#Label plot\n",
    "plt.xlabel('WT')\n",
    "plt.ylabel('Number of Cars')\n",
    "plt.title('WT Histogram')"
   ]
  },
  {
   "cell_type": "code",
   "execution_count": 7,
   "metadata": {
    "scrolled": true
   },
   "outputs": [
    {
     "data": {
      "text/plain": [
       "Text(0.5, 1.0, 'MPG Histogram')"
      ]
     },
     "execution_count": 7,
     "metadata": {},
     "output_type": "execute_result"
    },
    {
     "data": {
      "image/png": "[encoded data removed]",
      "text/plain": [
       "<Figure size 432x288 with 1 Axes>"
      ]
     },
     "metadata": {
      "needs_background": "light"
     },
     "output_type": "display_data"
    }
   ],
   "source": [
    "plot3=plt.figure(3)\n",
    "#Histogram of the Y variable\n",
    "plt.hist(Y)\n",
    "\n",
    "#Label plot\n",
    "plt.xlabel('MPG')\n",
    "plt.ylabel('Number of Cars')\n",
    "plt.title('MPG Histogram')"
   ]
  },
  {
   "cell_type": "code",
   "execution_count": 8,
   "metadata": {},
   "outputs": [
    {
     "data": {
      "text/plain": [
       "Text(0.5, 1.0, 'Predicted MPG Histogram')"
      ]
     },
     "execution_count": 8,
     "metadata": {},
     "output_type": "execute_result"
    },
    {
     "data": {
      "image/png": "[encoded data removed]",
      "text/plain": [
       "<Figure size 432x288 with 1 Axes>"
      ]
     },
     "metadata": {
      "needs_background": "light"
     },
     "output_type": "display_data"
    }
   ],
   "source": [
    "plot4=plt.figure(4)\n",
    "#Histogram of Y_Pred\n",
    "plt.hist(Y_pred)\n",
    "\n",
    "#Label plot\n",
    "plt.xlabel('Predicted MPG')\n",
    "plt.ylabel('Number of Cars')\n",
    "plt.title('Predicted MPG Histogram')"
   ]
  },
  {
   "cell_type": "code",
   "execution_count": 9,
   "metadata": {},
   "outputs": [],
   "source": [
    "#Show all matplotlib plots\n",
    "plt.show()"
   ]
  },
  {
   "cell_type": "code",
   "execution_count": 10,
   "metadata": {},
   "outputs": [],
   "source": [
    "#Plot geom_smooth for LOESS regression\n",
    "plot5=ggplot(data=df) + \\\n",
    "geom_smooth(mapping=aes(x=\"wt\", y=\"mpg\")) + \\\n",
    "geom_point(mapping=aes(x=\"wt\", y=\"mpg\"))\n",
    "\n",
    "#plot geom_smooth\n",
    "#print('Geom Smooth Plot:')\n",
    "#print (plot5)"
   ]
  },
  {
   "cell_type": "code",
   "execution_count": 11,
   "metadata": {},
   "outputs": [
    {
     "name": "stdout",
     "output_type": "stream",
     "text": [
      "Review Dataframe with Actual and Predicted MPG\n",
      "\n",
      "\n",
      "                     Actual MPG  Predicted MPG  Difference\n",
      "Mazda RX4                  21.0      23.238990    2.238990\n",
      "Mazda RX4 Wag              21.0      21.889055    0.889055\n",
      "Datsun 710                 22.8      24.827148    2.027148\n",
      "Hornet 4 Drive             21.4      20.089142   -1.310858\n",
      "Hornet Sportabout          18.7      18.898023    0.198023\n",
      "Valiant                    18.1      18.792146    0.692146\n",
      "Duster 360                 14.3      18.209821    3.909821\n",
      "Merc 240D                  24.4      20.221489   -4.178511\n",
      "Merc 230                   22.8      20.433243   -2.366757\n",
      "Merc 280                   19.2      18.898023   -0.301977\n",
      "Merc 280C                  17.8      18.898023    1.098023\n",
      "Merc 450SE                 16.4      15.562891   -0.837109\n",
      "Merc 450SL                 17.3      17.362803    0.062803\n",
      "Merc 450SLC                15.2      17.098110    1.898110\n",
      "Cadillac Fleetwood         10.4       9.316134   -1.083866\n",
      "Lincoln Continental        10.4       8.395002   -2.004998\n",
      "Chrysler Imperial          14.7       8.813217   -5.886783\n",
      "Fiat 128                   32.4      25.462411   -6.937589\n",
      "Honda Civic                30.4      28.559320   -1.840680\n",
      "Toyota Corolla             33.9      27.394671   -6.505329\n",
      "Toyota Corona              21.5      24.059538    2.559538\n",
      "Dodge Challenger           15.5      18.474514    2.974514\n",
      "AMC Javelin                15.2      18.924493    3.724493\n",
      "Camaro Z28                 13.3      16.780479    3.480479\n",
      "Pontiac Firebird           19.2      16.754009   -2.445991\n",
      "Fiat X1-9                  27.3      26.865285   -0.434715\n",
      "Porsche 914-2              26.0      25.780043   -0.219957\n",
      "Lotus Europa               30.4      29.099294   -1.300706\n",
      "Ford Pantera L             15.8      20.327366    4.527366\n",
      "Ferrari Dino               19.7      22.444910    2.744910\n",
      "Maserati Bora              15.0      18.209821    3.209821\n",
      "Volvo 142E                 21.4      22.391972    0.991972\n"
     ]
    }
   ],
   "source": [
    "#Compare predicted values from regression to actual values\n",
    "return_df = pd.concat([Y, Y_pred,Y_pred-Y], axis=1)\n",
    "return_df.columns = ['Actual MPG', 'Predicted MPG','Difference']\n",
    "\n",
    "#Print review dataframe\n",
    "print(\"Review Dataframe with Actual and Predicted MPG\")\n",
    "print('\\n')\n",
    "\n",
    "print(return_df)"
   ]
  },
  {
   "cell_type": "markdown",
   "metadata": {},
   "source": [
    "### Evaluate Possible Outliers: ###"
   ]
  },
  {
   "cell_type": "code",
   "execution_count": 12,
   "metadata": {},
   "outputs": [
    {
     "name": "stdout",
     "output_type": "stream",
     "text": [
      "\n",
      "\n",
      "Now let's evaluate the data for outliers. We will consider points which are at least 2 standard deviations away from the mean.\n",
      "The Mercedes 240D uses a diesel engine and will therefore be considered an outlier (given the higher power density of diesel).*\n",
      "\n",
      "\n"
     ]
    }
   ],
   "source": [
    "#Evaluate data for possible outliers\n",
    "print('\\n')\n",
    "print(\"Now let's evaluate the data for outliers. We will consider points which are at least 2 standard deviations away from the mean.\")\n",
    "print(\"The Mercedes 240D uses a diesel engine and will therefore be considered an outlier (given the higher power density of diesel).*\")\n",
    "print('\\n')"
   ]
  },
  {
   "cell_type": "code",
   "execution_count": 13,
   "metadata": {},
   "outputs": [],
   "source": [
    "#Make copy of dataframe\n",
    "df_no_out = df.copy()"
   ]
  },
  {
   "cell_type": "code",
   "execution_count": 14,
   "metadata": {},
   "outputs": [
    {
     "name": "stdout",
     "output_type": "stream",
     "text": [
      "Standard deviation of X variable = 0.963\n",
      "Possible X outliers are above 5.14 or below 1.29\n",
      "\n",
      "\n",
      "Standard deviation of Y variable = 5.932\n",
      "Possible Y outliers are above 31.95 or below 8.23\n",
      "\n",
      "\n"
     ]
    }
   ],
   "source": [
    "#Checking for outliers by measuring 2 standard deviations from mean\n",
    "\n",
    "stdx=np.std(X)\n",
    "stdy=np.std(Y)\n",
    "\n",
    "meanx=np.mean(X)\n",
    "meany=np.mean(Y)\n",
    "\n",
    "print(\"Standard deviation of X variable =\",round(stdx,4))\n",
    "print(\"Possible X outliers are above\",round(meanx+(2*stdx),2),\"or below\",round(meanx-(2*stdx),2))\n",
    "print('\\n')\n",
    "\n",
    "print(\"Standard deviation of Y variable =\",round(stdy,4))\n",
    "print(\"Possible Y outliers are above\",round(meany+(2*stdy),2), \"or below\",round(meany-(2*stdy),2))\n",
    "print('\\n')"
   ]
  },
  {
   "cell_type": "code",
   "execution_count": 15,
   "metadata": {},
   "outputs": [
    {
     "name": "stdout",
     "output_type": "stream",
     "text": [
      "Possible Outliers Marked in Dataframe\n",
      "                      mpg  cyl   disp   hp  drat     wt   qsec  vs  am  gear  \\\n",
      "Mazda RX4            21.0    6  160.0  110  3.90  2.620  16.46   0   1     4   \n",
      "Mazda RX4 Wag        21.0    6  160.0  110  3.90  2.875  17.02   0   1     4   \n",
      "Datsun 710           22.8    4  108.0   93  3.85  2.320  18.61   1   1     4   \n",
      "Hornet 4 Drive       21.4    6  258.0  110  3.08  3.215  19.44   1   0     3   \n",
      "Hornet Sportabout    18.7    8  360.0  175  3.15  3.440  17.02   0   0     3   \n",
      "Valiant              18.1    6  225.0  105  2.76  3.460  20.22   1   0     3   \n",
      "Duster 360           14.3    8  360.0  245  3.21  3.570  15.84   0   0     3   \n",
      "Merc 240D            24.4    4  146.7   62  3.69  3.190  20.00   1   0     4   \n",
      "Merc 230             22.8    4  140.8   95  3.92  3.150  22.90   1   0     4   \n",
      "Merc 280             19.2    6  167.6  123  3.92  3.440  18.30   1   0     4   \n",
      "Merc 280C            17.8    6  167.6  123  3.92  3.440  18.90   1   0     4   \n",
      "Merc 450SE           16.4    8  275.8  180  3.07  4.070  17.40   0   0     3   \n",
      "Merc 450SL           17.3    8  275.8  180  3.07  3.730  17.60   0   0     3   \n",
      "Merc 450SLC          15.2    8  275.8  180  3.07  3.780  18.00   0   0     3   \n",
      "Cadillac Fleetwood   10.4    8  472.0  205  2.93  5.250  17.98   0   0     3   \n",
      "Lincoln Continental  10.4    8  460.0  215  3.00  5.424  17.82   0   0     3   \n",
      "Chrysler Imperial    14.7    8  440.0  230  3.23  5.345  17.42   0   0     3   \n",
      "Fiat 128             32.4    4   78.7   66  4.08  2.200  19.47   1   1     4   \n",
      "Honda Civic          30.4    4   75.7   52  4.93  1.615  18.52   1   1     4   \n",
      "Toyota Corolla       33.9    4   71.1   65  4.22  1.835  19.90   1   1     4   \n",
      "Toyota Corona        21.5    4  120.1   97  3.70  2.465  20.01   1   0     3   \n",
      "Dodge Challenger     15.5    8  318.0  150  2.76  3.520  16.87   0   0     3   \n",
      "AMC Javelin          15.2    8  304.0  150  3.15  3.435  17.30   0   0     3   \n",
      "Camaro Z28           13.3    8  350.0  245  3.73  3.840  15.41   0   0     3   \n",
      "Pontiac Firebird     19.2    8  400.0  175  3.08  3.845  17.05   0   0     3   \n",
      "Fiat X1-9            27.3    4   79.0   66  4.08  1.935  18.90   1   1     4   \n",
      "Porsche 914-2        26.0    4  120.3   91  4.43  2.140  16.70   0   1     5   \n",
      "Lotus Europa         30.4    4   95.1  113  3.77  1.513  16.90   1   1     5   \n",
      "Ford Pantera L       15.8    8  351.0  264  4.22  3.170  14.50   0   1     5   \n",
      "Ferrari Dino         19.7    6  145.0  175  3.62  2.770  15.50   0   1     5   \n",
      "Maserati Bora        15.0    8  301.0  335  3.54  3.570  14.60   0   1     5   \n",
      "Volvo 142E           21.4    4  121.0  109  4.11  2.780  18.60   1   1     4   \n",
      "\n",
      "                     carb  Poss_X_Outlier  Poss_Y_Outlier  \n",
      "Mazda RX4               4               0               0  \n",
      "Mazda RX4 Wag           4               0               0  \n",
      "Datsun 710              1               0               0  \n",
      "Hornet 4 Drive          1               0               0  \n",
      "Hornet Sportabout       2               0               0  \n",
      "Valiant                 1               0               0  \n",
      "Duster 360              4               0               0  \n",
      "Merc 240D               2               0               0  \n",
      "Merc 230                2               0               0  \n",
      "Merc 280                4               0               0  \n",
      "Merc 280C               4               0               0  \n",
      "Merc 450SE              3               0               0  \n",
      "Merc 450SL              3               0               0  \n",
      "Merc 450SLC             3               0               0  \n",
      "Cadillac Fleetwood      4               1               0  \n",
      "Lincoln Continental     4               1               0  \n",
      "Chrysler Imperial       4               1               0  \n",
      "Fiat 128                1               0               1  \n",
      "Honda Civic             2               0               0  \n",
      "Toyota Corolla          1               0               1  \n",
      "Toyota Corona           1               0               0  \n",
      "Dodge Challenger        2               0               0  \n",
      "AMC Javelin             2               0               0  \n",
      "Camaro Z28              4               0               0  \n",
      "Pontiac Firebird        2               0               0  \n",
      "Fiat X1-9               1               0               0  \n",
      "Porsche 914-2           2               0               0  \n",
      "Lotus Europa            2               0               0  \n",
      "Ford Pantera L          4               0               0  \n",
      "Ferrari Dino            6               0               0  \n",
      "Maserati Bora           8               0               0  \n",
      "Volvo 142E              2               0               0  \n"
     ]
    }
   ],
   "source": [
    "#Mark possible outliers in dataframe\n",
    "df_no_out['Poss_X_Outlier'] = X.apply(lambda x: 1 if x >= meanx+(2*stdx) or x<= meanx-(2*stdx) else 0)\n",
    "df_no_out['Poss_Y_Outlier'] = Y.apply(lambda x: 1 if x >= meany+(2*stdy) or x<= meany-(2*stdy) else 0) \n",
    "\n",
    "#print(df)\n",
    "print('Possible Outliers Marked in Dataframe')\n",
    "print(df_no_out)"
   ]
  },
  {
   "cell_type": "code",
   "execution_count": 16,
   "metadata": {},
   "outputs": [
    {
     "name": "stdout",
     "output_type": "stream",
     "text": [
      "Should all of these vehicles be exlcuded? I would argue that the only vehicle which should be excluded is the Mercedes 240D as it is the only diesel powered vehicle of the group.* While others fall outside of 2 standard deviations from the mean, there is no evidence to suggest that the data are corrupt.\n",
      "\n",
      "\n"
     ]
    }
   ],
   "source": [
    "print(\"Should all of these vehicles be exlcuded? I would argue that the only vehicle which should be excluded \\\n",
    "is the Mercedes 240D as it is the only diesel powered vehicle of the group.* While others fall outside of \\\n",
    "2 standard deviations from the mean, there is no evidence to suggest that the data are corrupt.\")\n",
    "print('\\n')"
   ]
  },
  {
   "cell_type": "code",
   "execution_count": 17,
   "metadata": {},
   "outputs": [
    {
     "name": "stdout",
     "output_type": "stream",
     "text": [
      "Do you want to exclude the other vehicles identified? (Y/N): Y\n",
      "Dataframe after dropping possible outliers\n",
      "                    mpg  cyl   disp   hp  drat     wt   qsec  vs  am  gear  \\\n",
      "Mazda RX4          21.0    6  160.0  110  3.90  2.620  16.46   0   1     4   \n",
      "Mazda RX4 Wag      21.0    6  160.0  110  3.90  2.875  17.02   0   1     4   \n",
      "Datsun 710         22.8    4  108.0   93  3.85  2.320  18.61   1   1     4   \n",
      "Hornet 4 Drive     21.4    6  258.0  110  3.08  3.215  19.44   1   0     3   \n",
      "Hornet Sportabout  18.7    8  360.0  175  3.15  3.440  17.02   0   0     3   \n",
      "Valiant            18.1    6  225.0  105  2.76  3.460  20.22   1   0     3   \n",
      "Duster 360         14.3    8  360.0  245  3.21  3.570  15.84   0   0     3   \n",
      "Merc 230           22.8    4  140.8   95  3.92  3.150  22.90   1   0     4   \n",
      "Merc 280           19.2    6  167.6  123  3.92  3.440  18.30   1   0     4   \n",
      "Merc 280C          17.8    6  167.6  123  3.92  3.440  18.90   1   0     4   \n",
      "Merc 450SE         16.4    8  275.8  180  3.07  4.070  17.40   0   0     3   \n",
      "Merc 450SL         17.3    8  275.8  180  3.07  3.730  17.60   0   0     3   \n",
      "Merc 450SLC        15.2    8  275.8  180  3.07  3.780  18.00   0   0     3   \n",
      "Honda Civic        30.4    4   75.7   52  4.93  1.615  18.52   1   1     4   \n",
      "Toyota Corona      21.5    4  120.1   97  3.70  2.465  20.01   1   0     3   \n",
      "Dodge Challenger   15.5    8  318.0  150  2.76  3.520  16.87   0   0     3   \n",
      "AMC Javelin        15.2    8  304.0  150  3.15  3.435  17.30   0   0     3   \n",
      "Camaro Z28         13.3    8  350.0  245  3.73  3.840  15.41   0   0     3   \n",
      "Pontiac Firebird   19.2    8  400.0  175  3.08  3.845  17.05   0   0     3   \n",
      "Fiat X1-9          27.3    4   79.0   66  4.08  1.935  18.90   1   1     4   \n",
      "Porsche 914-2      26.0    4  120.3   91  4.43  2.140  16.70   0   1     5   \n",
      "Lotus Europa       30.4    4   95.1  113  3.77  1.513  16.90   1   1     5   \n",
      "Ford Pantera L     15.8    8  351.0  264  4.22  3.170  14.50   0   1     5   \n",
      "Ferrari Dino       19.7    6  145.0  175  3.62  2.770  15.50   0   1     5   \n",
      "Maserati Bora      15.0    8  301.0  335  3.54  3.570  14.60   0   1     5   \n",
      "Volvo 142E         21.4    4  121.0  109  4.11  2.780  18.60   1   1     4   \n",
      "\n",
      "                   carb  Poss_X_Outlier  Poss_Y_Outlier  \n",
      "Mazda RX4             4               0               0  \n",
      "Mazda RX4 Wag         4               0               0  \n",
      "Datsun 710            1               0               0  \n",
      "Hornet 4 Drive        1               0               0  \n",
      "Hornet Sportabout     2               0               0  \n",
      "Valiant               1               0               0  \n",
      "Duster 360            4               0               0  \n",
      "Merc 230              2               0               0  \n",
      "Merc 280              4               0               0  \n",
      "Merc 280C             4               0               0  \n",
      "Merc 450SE            3               0               0  \n",
      "Merc 450SL            3               0               0  \n",
      "Merc 450SLC           3               0               0  \n",
      "Honda Civic           2               0               0  \n",
      "Toyota Corona         1               0               0  \n",
      "Dodge Challenger      2               0               0  \n",
      "AMC Javelin           2               0               0  \n",
      "Camaro Z28            4               0               0  \n",
      "Pontiac Firebird      2               0               0  \n",
      "Fiat X1-9             1               0               0  \n",
      "Porsche 914-2         2               0               0  \n",
      "Lotus Europa          2               0               0  \n",
      "Ford Pantera L        4               0               0  \n",
      "Ferrari Dino          6               0               0  \n",
      "Maserati Bora         8               0               0  \n",
      "Volvo 142E            2               0               0  \n",
      "\n",
      "\n",
      "Number of remaining vehicles: 26.0\n"
     ]
    }
   ],
   "source": [
    "#Drop possible outliers from dataframe\n",
    "\n",
    "df_no_out = df_no_out.drop(index='Merc 240D')\n",
    "\n",
    "\n",
    "yn = input(\"Do you want to exclude the other vehicles identified? (Y/N): \")\n",
    "if yn == \"Y\":\n",
    "    df_no_out = df_no_out[df_no_out.Poss_X_Outlier != 1]\n",
    "    df_no_out = df_no_out[df_no_out.Poss_Y_Outlier != 1]\n",
    "\n",
    "else: \n",
    "    print('\\n')\n",
    "    \n",
    "#If you want to drop those vehicles which are outside of 2 standard deviations without use input, \\\n",
    "#uncomment the following line(s)\n",
    "#df_no_out = df_no_out[df_no_out.Poss_X_Outlier != 1]\n",
    "#df_no_out = df_no_out[df_no_out.Poss_Y_Outlier != 1]\n",
    "\n",
    "print(\"Dataframe after dropping possible outliers\",)\n",
    "print (df_no_out)\n",
    "print ('\\n')\n",
    "print(\"Number of remaining vehicles:\",float(len(df_no_out.index)))"
   ]
  },
  {
   "cell_type": "markdown",
   "metadata": {},
   "source": [
    "### Weight vs MPG of Dataset Minus Possible Outliers: ###"
   ]
  },
  {
   "cell_type": "code",
   "execution_count": 18,
   "metadata": {},
   "outputs": [
    {
     "name": "stdout",
     "output_type": "stream",
     "text": [
      "Now we can run the regression again:\n",
      "Number of Vehicles =  26.0\n",
      "\n",
      "\n",
      "Computing m and c using gradient descent...\n",
      "Computed values of m and c:  -5.6704 37.2145\n",
      "Compute Time: 17.5597\n",
      "\n",
      "\n",
      "R-Squared =  0.817653\n",
      "\n",
      "\n"
     ]
    },
    {
     "data": {
      "image/png": "[encoded data removed]",
      "text/plain": [
       "<Figure size 432x288 with 1 Axes>"
      ]
     },
     "metadata": {
      "needs_background": "light"
     },
     "output_type": "display_data"
    },
    {
     "name": "stdout",
     "output_type": "stream",
     "text": [
      "R^2 from first regression: 0.75276 \n",
      "\n",
      "R^2 from second regression: 0.817653 *\n",
      "We cannot simply rely on differences in R^2 to justify choosing one model over another.\n"
     ]
    }
   ],
   "source": [
    "#The following code is reproduced from the code written above, but this time the code is not \\\n",
    "#broken into cells.\n",
    "print(\"Now we can run the regression again:\")\n",
    "\n",
    "#Rewrite df_no_out to df and run regression again\n",
    "df=df_no_out\n",
    "\n",
    "#Number of vehicles\n",
    "no_of_cars = float(len(df.index))\n",
    "print('\\n')\n",
    "\n",
    "#Define the x and y variables\n",
    "X = df['wt']     #Choose from the following: mpg, cyl, hp, drat, wt, qsec, vs, am, gear, carb\n",
    "Y = df['mpg']    #Choose from the following: mpg, cyl, hp, drat, wt, qsec, vs, am, gear, carb\n",
    "\n",
    "print (\"Computing m and c using gradient descent...\")\n",
    "#Time gradient descent\n",
    "start_time = time.time()\n",
    "\n",
    "#Use gradient descent to minimize the mean squared error\n",
    "#Initialize m, c, r (learning rate), and iterations (number of iterations)\n",
    "#For wt v mpg initialize with m = -5.340 and c = 37.270\n",
    "m = -1\n",
    "c = 30\n",
    "r = .001\n",
    "iterations = 25000\n",
    "n = no_of_cars\n",
    "\n",
    "# Perform Gradient Descent \n",
    "for i in range(iterations): \n",
    "    Y_pred = (m*X) + c                     # The current predicted value of Y\n",
    "    Dm = (-2/n) * sum(X * (Y - Y_pred))    # Derivative wrt m\n",
    "    Dc = (-2/n) * sum(Y - Y_pred)          # Derivative wrt c\n",
    "    m = m - (r * Dm)                       # Update m\n",
    "    c = c - (r * Dc)                       # Update c\n",
    "\n",
    "comp_time = time.time() - start_time\n",
    "\n",
    "#Print computed m and c\n",
    "print ('Computed values of m and c: ',round(m,4),round(c,4))\n",
    "print(\"Compute Time:\", round(comp_time,4))\n",
    "print('\\n')\n",
    "\n",
    "#Compute R^2\n",
    "#An excellent R^2 for wt v mpg is 0.75283\n",
    "top = np.sum((Y-Y_pred)**2)\n",
    "bottom = np.sum((Y-np.mean(Y))**2)\n",
    "\n",
    "r_squared_2 = 1-(top/bottom)\n",
    "print (\"R-Squared = \",round(r_squared_2,6))\n",
    "print('\\n')\n",
    "\n",
    "#Write function for line of best fit, plot points and line\n",
    "\n",
    "#Line of best fit\n",
    "Y_pred = (m*X)+c\n",
    "\n",
    "#Plot the best fit line using the endpoints of Y_pred\n",
    "#The if/else statement ensures that the plotted line \\\n",
    "#matches the behavior of the slope indicated by m\n",
    "if m<=0:\n",
    "    point1 = [min(X), max(Y_pred)]\n",
    "    point2 = [max(X), min(Y_pred)]\n",
    "    x_values = [point1[0], point2[0]] \n",
    "    y_values = [point1[1], point2[1]]\n",
    "\n",
    "else:\n",
    "    point1 = [min(X), min(Y_pred)]\n",
    "    point2 = [max(X), max(Y_pred)]\n",
    "    x_values = [point1[0], point2[0]] \n",
    "    y_values = [point1[1], point2[1]]\n",
    "    \n",
    "\n",
    "plot1=plt.figure(1)    \n",
    "#plot the best fit line\n",
    "plt.plot(x_values, y_values)\n",
    "\n",
    "#add the scatter plot of the two variables\n",
    "plt.scatter(X, Y)\n",
    "\n",
    "#label plot1\n",
    "plt.xlabel('WT')\n",
    "plt.ylabel('MPG')\n",
    "plt.title('WT v MPG Excluding Possible Outliers')\n",
    "\n",
    "plt.show()\n",
    "round(r_squared_2,6)\n",
    "\n",
    "print(\"R^2 from first regression:\", round(r_squared_1,6), \"\\n\")\n",
    "print(\"R^2 from second regression:\", round(r_squared_2,6),\"*\")\n",
    "\n",
    "print(\"We cannot simply rely on differences in R^2 to justify choosing one model over another.\")"
   ]
  },
  {
   "cell_type": "markdown",
   "metadata": {},
   "source": [
    "## Notes: ##\n",
    "\n",
    "\n",
    "### Alleged Outliers: ###\n",
    "We identified possible outliers in each variable by finding the respective standard deviation. Points which were more than 2 standard deviations from the mean, were marked, and then those respective vehciles were removed from the dataframe. The Mercedes 240D was also removed since it utilized a deisel engine instead of a gasoline engine.\n",
    "\n",
    "After removing the alleged outliers and running the regression a second time, we see that the $R^2$ value has increased. Therefore, it might seem that the removal of the alleged outliers is justified. However, aside from the fact that some points are more than 2 standard deviations from the mean, there is little evidence to suggest that these points are in fact outliers. For instance, we have no reason to believe that there was a mistake made when the information was gathered (ie we do not have evidence that the reported mpg figure is wrong). There are also no obvious reasons for excluding a vehicle such as the Toyota Corolla or Lincoln Continental even though the Corolla had very good gas milage and the Continental was exceptionally heavy. The fuel efficiency of the Corolla and the weight of the Continental can be observed across the passenger car segment from 1950-2020.\n",
    "\n",
    "While there is variation among the precise engine layout of many of the vehicles (inline vs v-shaped or the number of cylinders) there are a few standouts, namely the Mazda RX-4, the Mazda RX-4 Wagon, and the Mercedes 240D. The Mazdas have a rotary engine and the Mercedes uses diesel instead of gasoline. Even with the wildly different engine type, the fuel efficiency of the Mazdas was within 2 standard deviations of the mean. The Mercedes 240D does fall outside of this interval and is ~21% more efficient than expected. This can be explained in part by the power density of diesel, which is ~12% greater than the power density of gas. On average, diesel engines are ~20-30% more efficient than comparable gasoline engines. \n",
    "\n",
    "Therefore, the only vehicle which should be considered an outlier is the Mercedes 240D.\n",
    "\n",
    "### $R^2$: ###\n",
    "\n",
    "We cannot simply rely on differences in $R^2$ to justify choosing one model over another."
   ]
  },
  {
   "cell_type": "markdown",
   "metadata": {},
   "source": [
    "### Dataset Details: ###\n",
    "mpg\t= Miles/(US) gallon\n",
    "cyl = Number of cylinders\n",
    "disp = Displacement (cu.in.)\n",
    "hp = Gross horsepower\n",
    "drat = Rear axle ratio\n",
    "wt = Weight (1000 lbs)\n",
    "qsec = 1/4 mile time\n",
    "vs = Engine (0 = V-shaped, 1 = straight)\n",
    "am = Transmission (0 = automatic, 1 = manual)\n",
    "gear = Number of forward gears\n",
    "\n",
    "Dataset contains 32 different cars\n",
    "\n",
    "Note from R Documentation (https://www.rdocumentation.org/packages/datasets/versions/3.6.2/topics/mtcars): Henderson and Velleman (1981) comment in a footnote to Table 1: ‘Hocking [original transcriber]'s noncrucial coding of the Mazda's rotary engine as a straight six-cylinder engine and the Porsche's flat engine as a V engine, as well as the inclusion of the diesel Mercedes 240D, have been retained to enable direct comparisons to be made with previous analyses.’"
   ]
  },
  {
   "cell_type": "markdown",
   "metadata": {},
   "source": [
    "### Math: ###\n",
    "\n",
    "$R^2 = 1-\\frac{\\sum\\limits _{i=0} ^{n} (y_i-f_i)^2}{\\sum\\limits _{i=0} ^{n} (y_i-\\bar{y_i})^2}$\n",
    "\n",
    "$MSE = \\frac{1}{n}\\sum\\limits _{i=0} ^{n} (y_i-\\bar{y_i})^2\\hspace{1cm}\\rightarrow\\hspace{1cm}MSE= \\frac{1}{n}\\sum\\limits _{i=0} ^{n} (y_i-(mx_i+c))^2$\n",
    "\n",
    "We want to minimize the cost function (and need the optimum values for m and c called M and C. Let's take the partial derivative of our cost function with respect to m and then with respect to c. We can then minimize the function by stepping through gradient descent and updating m and c.\n",
    "\n",
    "$D_m = \\frac{1}{n}\\sum\\limits _{i=0} ^{n} (-2x_i)(y_i-(mx_i+c))\\hspace{1cm}\\rightarrow\\hspace{1cm}D_m=\\frac{-2}{n}\\sum\\limits _{i=0} ^{n} (x_i)(y_i-(mx_i+c))$\n",
    "\n",
    "$D_c = \\frac{1}{n}\\sum\\limits _{i=0} ^{n}-2(y_i-(mx_i+c))\\hspace{1cm}\\rightarrow\\hspace{1cm}D_c =\\frac{-2}{n}\\sum\\limits _{i=0} ^{n}(y_i-(mx_i+c))$\n",
    "\n",
    "$M=m^*-(r*D_m)$\n",
    "\n",
    "$C=c^*-(r*D_c)$"
   ]
  }
 ],
 "metadata": {
  "kernelspec": {
   "display_name": "Python 3",
   "language": "python",
   "name": "python3"
  },
  "language_info": {
   "codemirror_mode": {
    "name": "ipython",
    "version": 3
   },
   "file_extension": ".py",
   "mimetype": "text/x-python",
   "name": "python",
   "nbconvert_exporter": "python",
   "pygments_lexer": "ipython3",
   "version": "3.7.4"
  }
 },
 "nbformat": 4,
 "nbformat_minor": 2
}
